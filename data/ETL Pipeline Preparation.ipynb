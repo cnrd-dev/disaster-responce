{
 "cells": [
  {
   "cell_type": "markdown",
   "metadata": {},
   "source": [
    "# ETL Pipeline Preparation\n",
    "Follow the instructions below to help you create your ETL pipeline.\n",
    "### 1. Import libraries and load datasets.\n",
    "- Import Python libraries\n",
    "- Load `messages.csv` into a dataframe and inspect the first few lines.\n",
    "- Load `categories.csv` into a dataframe and inspect the first few lines."
   ]
  },
  {
   "cell_type": "code",
   "execution_count": 1,
   "metadata": {},
   "outputs": [],
   "source": [
    "# import libraries\n",
    "import pandas as pd \n",
    "import sqlite3\n",
    "from sqlalchemy import create_engine"
   ]
  },
  {
   "cell_type": "code",
   "execution_count": 2,
   "metadata": {},
   "outputs": [
    {
     "output_type": "execute_result",
     "data": {
      "text/plain": [
       "   id                                            message  \\\n",
       "0   2  Weather update - a cold front from Cuba that c...   \n",
       "1   7            Is the Hurricane over or is it not over   \n",
       "2   8                    Looking for someone but no name   \n",
       "3   9  UN reports Leogane 80-90 destroyed. Only Hospi...   \n",
       "4  12  says: west side of Haiti, rest of the country ...   \n",
       "\n",
       "                                            original   genre  \n",
       "0  Un front froid se retrouve sur Cuba ce matin. ...  direct  \n",
       "1                 Cyclone nan fini osinon li pa fini  direct  \n",
       "2  Patnm, di Maryani relem pou li banm nouvel li ...  direct  \n",
       "3  UN reports Leogane 80-90 destroyed. Only Hospi...  direct  \n",
       "4  facade ouest d Haiti et le reste du pays aujou...  direct  "
      ],
      "text/html": "<div>\n<style scoped>\n    .dataframe tbody tr th:only-of-type {\n        vertical-align: middle;\n    }\n\n    .dataframe tbody tr th {\n        vertical-align: top;\n    }\n\n    .dataframe thead th {\n        text-align: right;\n    }\n</style>\n<table border=\"1\" class=\"dataframe\">\n  <thead>\n    <tr style=\"text-align: right;\">\n      <th></th>\n      <th>id</th>\n      <th>message</th>\n      <th>original</th>\n      <th>genre</th>\n    </tr>\n  </thead>\n  <tbody>\n    <tr>\n      <th>0</th>\n      <td>2</td>\n      <td>Weather update - a cold front from Cuba that c...</td>\n      <td>Un front froid se retrouve sur Cuba ce matin. ...</td>\n      <td>direct</td>\n    </tr>\n    <tr>\n      <th>1</th>\n      <td>7</td>\n      <td>Is the Hurricane over or is it not over</td>\n      <td>Cyclone nan fini osinon li pa fini</td>\n      <td>direct</td>\n    </tr>\n    <tr>\n      <th>2</th>\n      <td>8</td>\n      <td>Looking for someone but no name</td>\n      <td>Patnm, di Maryani relem pou li banm nouvel li ...</td>\n      <td>direct</td>\n    </tr>\n    <tr>\n      <th>3</th>\n      <td>9</td>\n      <td>UN reports Leogane 80-90 destroyed. Only Hospi...</td>\n      <td>UN reports Leogane 80-90 destroyed. Only Hospi...</td>\n      <td>direct</td>\n    </tr>\n    <tr>\n      <th>4</th>\n      <td>12</td>\n      <td>says: west side of Haiti, rest of the country ...</td>\n      <td>facade ouest d Haiti et le reste du pays aujou...</td>\n      <td>direct</td>\n    </tr>\n  </tbody>\n</table>\n</div>"
     },
     "metadata": {},
     "execution_count": 2
    }
   ],
   "source": [
    "# load messages dataset\n",
    "messages = pd.read_csv(\"disaster_messages.csv\")\n",
    "messages.head()"
   ]
  },
  {
   "cell_type": "code",
   "execution_count": 3,
   "metadata": {},
   "outputs": [
    {
     "output_type": "execute_result",
     "data": {
      "text/plain": [
       "   id                                         categories\n",
       "0   2  related-1;request-0;offer-0;aid_related-0;medi...\n",
       "1   7  related-1;request-0;offer-0;aid_related-1;medi...\n",
       "2   8  related-1;request-0;offer-0;aid_related-0;medi...\n",
       "3   9  related-1;request-1;offer-0;aid_related-1;medi...\n",
       "4  12  related-1;request-0;offer-0;aid_related-0;medi..."
      ],
      "text/html": "<div>\n<style scoped>\n    .dataframe tbody tr th:only-of-type {\n        vertical-align: middle;\n    }\n\n    .dataframe tbody tr th {\n        vertical-align: top;\n    }\n\n    .dataframe thead th {\n        text-align: right;\n    }\n</style>\n<table border=\"1\" class=\"dataframe\">\n  <thead>\n    <tr style=\"text-align: right;\">\n      <th></th>\n      <th>id</th>\n      <th>categories</th>\n    </tr>\n  </thead>\n  <tbody>\n    <tr>\n      <th>0</th>\n      <td>2</td>\n      <td>related-1;request-0;offer-0;aid_related-0;medi...</td>\n    </tr>\n    <tr>\n      <th>1</th>\n      <td>7</td>\n      <td>related-1;request-0;offer-0;aid_related-1;medi...</td>\n    </tr>\n    <tr>\n      <th>2</th>\n      <td>8</td>\n      <td>related-1;request-0;offer-0;aid_related-0;medi...</td>\n    </tr>\n    <tr>\n      <th>3</th>\n      <td>9</td>\n      <td>related-1;request-1;offer-0;aid_related-1;medi...</td>\n    </tr>\n    <tr>\n      <th>4</th>\n      <td>12</td>\n      <td>related-1;request-0;offer-0;aid_related-0;medi...</td>\n    </tr>\n  </tbody>\n</table>\n</div>"
     },
     "metadata": {},
     "execution_count": 3
    }
   ],
   "source": [
    "# load categories dataset\n",
    "categories = pd.read_csv(\"disaster_categories.csv\")\n",
    "categories.head()"
   ]
  },
  {
   "cell_type": "markdown",
   "metadata": {},
   "source": [
    "### 2. Merge datasets.\n",
    "- Merge the messages and categories datasets using the common id\n",
    "- Assign this combined dataset to `df`, which will be cleaned in the following steps"
   ]
  },
  {
   "cell_type": "code",
   "execution_count": 4,
   "metadata": {},
   "outputs": [
    {
     "output_type": "execute_result",
     "data": {
      "text/plain": [
       "   id                                            message  \\\n",
       "0   2  Weather update - a cold front from Cuba that c...   \n",
       "1   7            Is the Hurricane over or is it not over   \n",
       "2   8                    Looking for someone but no name   \n",
       "3   9  UN reports Leogane 80-90 destroyed. Only Hospi...   \n",
       "4  12  says: west side of Haiti, rest of the country ...   \n",
       "\n",
       "                                            original   genre  \\\n",
       "0  Un front froid se retrouve sur Cuba ce matin. ...  direct   \n",
       "1                 Cyclone nan fini osinon li pa fini  direct   \n",
       "2  Patnm, di Maryani relem pou li banm nouvel li ...  direct   \n",
       "3  UN reports Leogane 80-90 destroyed. Only Hospi...  direct   \n",
       "4  facade ouest d Haiti et le reste du pays aujou...  direct   \n",
       "\n",
       "                                          categories  \n",
       "0  related-1;request-0;offer-0;aid_related-0;medi...  \n",
       "1  related-1;request-0;offer-0;aid_related-1;medi...  \n",
       "2  related-1;request-0;offer-0;aid_related-0;medi...  \n",
       "3  related-1;request-1;offer-0;aid_related-1;medi...  \n",
       "4  related-1;request-0;offer-0;aid_related-0;medi...  "
      ],
      "text/html": "<div>\n<style scoped>\n    .dataframe tbody tr th:only-of-type {\n        vertical-align: middle;\n    }\n\n    .dataframe tbody tr th {\n        vertical-align: top;\n    }\n\n    .dataframe thead th {\n        text-align: right;\n    }\n</style>\n<table border=\"1\" class=\"dataframe\">\n  <thead>\n    <tr style=\"text-align: right;\">\n      <th></th>\n      <th>id</th>\n      <th>message</th>\n      <th>original</th>\n      <th>genre</th>\n      <th>categories</th>\n    </tr>\n  </thead>\n  <tbody>\n    <tr>\n      <th>0</th>\n      <td>2</td>\n      <td>Weather update - a cold front from Cuba that c...</td>\n      <td>Un front froid se retrouve sur Cuba ce matin. ...</td>\n      <td>direct</td>\n      <td>related-1;request-0;offer-0;aid_related-0;medi...</td>\n    </tr>\n    <tr>\n      <th>1</th>\n      <td>7</td>\n      <td>Is the Hurricane over or is it not over</td>\n      <td>Cyclone nan fini osinon li pa fini</td>\n      <td>direct</td>\n      <td>related-1;request-0;offer-0;aid_related-1;medi...</td>\n    </tr>\n    <tr>\n      <th>2</th>\n      <td>8</td>\n      <td>Looking for someone but no name</td>\n      <td>Patnm, di Maryani relem pou li banm nouvel li ...</td>\n      <td>direct</td>\n      <td>related-1;request-0;offer-0;aid_related-0;medi...</td>\n    </tr>\n    <tr>\n      <th>3</th>\n      <td>9</td>\n      <td>UN reports Leogane 80-90 destroyed. Only Hospi...</td>\n      <td>UN reports Leogane 80-90 destroyed. Only Hospi...</td>\n      <td>direct</td>\n      <td>related-1;request-1;offer-0;aid_related-1;medi...</td>\n    </tr>\n    <tr>\n      <th>4</th>\n      <td>12</td>\n      <td>says: west side of Haiti, rest of the country ...</td>\n      <td>facade ouest d Haiti et le reste du pays aujou...</td>\n      <td>direct</td>\n      <td>related-1;request-0;offer-0;aid_related-0;medi...</td>\n    </tr>\n  </tbody>\n</table>\n</div>"
     },
     "metadata": {},
     "execution_count": 4
    }
   ],
   "source": [
    "# merge datasets\n",
    "df = pd.merge(messages, categories, on=[\"id\"])\n",
    "df.head()"
   ]
  },
  {
   "cell_type": "markdown",
   "metadata": {},
   "source": [
    "### 3. Split `categories` into separate category columns.\n",
    "- Split the values in the `categories` column on the `;` character so that each value becomes a separate column. You'll find [this method](https://pandas.pydata.org/pandas-docs/version/0.23/generated/pandas.Series.str.split.html) very helpful! Make sure to set `expand=True`.\n",
    "- Use the first row of categories dataframe to create column names for the categories data.\n",
    "- Rename columns of `categories` with new column names."
   ]
  },
  {
   "cell_type": "code",
   "execution_count": 5,
   "metadata": {},
   "outputs": [
    {
     "output_type": "execute_result",
     "data": {
      "text/plain": [
       "0    related-1;request-0;offer-0;aid_related-0;medi...\n",
       "1    related-1;request-0;offer-0;aid_related-1;medi...\n",
       "2    related-1;request-0;offer-0;aid_related-0;medi...\n",
       "3    related-1;request-1;offer-0;aid_related-1;medi...\n",
       "4    related-1;request-0;offer-0;aid_related-0;medi...\n",
       "Name: categories, dtype: object"
      ]
     },
     "metadata": {},
     "execution_count": 5
    }
   ],
   "source": [
    "# create a dataframe of the 36 individual category columns\n",
    "categories = df[\"categories\"]\n",
    "categories.head()"
   ]
  },
  {
   "cell_type": "code",
   "execution_count": 6,
   "metadata": {},
   "outputs": [
    {
     "output_type": "execute_result",
     "data": {
      "text/plain": [
       "(26386,)"
      ]
     },
     "metadata": {},
     "execution_count": 6
    }
   ],
   "source": [
    "categories.shape"
   ]
  },
  {
   "cell_type": "code",
   "execution_count": 20,
   "metadata": {},
   "outputs": [
    {
     "output_type": "execute_result",
     "data": {
      "text/plain": [
       "              0          1        2              3               4   \\\n",
       "0      related-1  request-0  offer-0  aid_related-0  medical_help-0   \n",
       "1      related-1  request-0  offer-0  aid_related-1  medical_help-0   \n",
       "2      related-1  request-0  offer-0  aid_related-0  medical_help-0   \n",
       "3      related-1  request-1  offer-0  aid_related-1  medical_help-0   \n",
       "4      related-1  request-0  offer-0  aid_related-0  medical_help-0   \n",
       "...          ...        ...      ...            ...             ...   \n",
       "26381  related-0  request-0  offer-0  aid_related-0  medical_help-0   \n",
       "26382  related-0  request-0  offer-0  aid_related-0  medical_help-0   \n",
       "26383  related-1  request-0  offer-0  aid_related-0  medical_help-0   \n",
       "26384  related-1  request-0  offer-0  aid_related-1  medical_help-0   \n",
       "26385  related-1  request-0  offer-0  aid_related-0  medical_help-0   \n",
       "\n",
       "                       5                    6           7           8   \\\n",
       "0      medical_products-0  search_and_rescue-0  security-0  military-0   \n",
       "1      medical_products-0  search_and_rescue-0  security-0  military-0   \n",
       "2      medical_products-0  search_and_rescue-0  security-0  military-0   \n",
       "3      medical_products-1  search_and_rescue-0  security-0  military-0   \n",
       "4      medical_products-0  search_and_rescue-0  security-0  military-0   \n",
       "...                   ...                  ...         ...         ...   \n",
       "26381  medical_products-0  search_and_rescue-0  security-0  military-0   \n",
       "26382  medical_products-0  search_and_rescue-0  security-0  military-0   \n",
       "26383  medical_products-0  search_and_rescue-0  security-0  military-0   \n",
       "26384  medical_products-0  search_and_rescue-0  security-0  military-1   \n",
       "26385  medical_products-0  search_and_rescue-0  security-0  military-0   \n",
       "\n",
       "                  9        10      11         12          13       14  \\\n",
       "0      child_alone-0  water-0  food-0  shelter-0  clothing-0  money-0   \n",
       "1      child_alone-0  water-0  food-0  shelter-0  clothing-0  money-0   \n",
       "2      child_alone-0  water-0  food-0  shelter-0  clothing-0  money-0   \n",
       "3      child_alone-0  water-0  food-0  shelter-0  clothing-0  money-0   \n",
       "4      child_alone-0  water-0  food-0  shelter-0  clothing-0  money-0   \n",
       "...              ...      ...     ...        ...         ...      ...   \n",
       "26381  child_alone-0  water-0  food-0  shelter-0  clothing-0  money-0   \n",
       "26382  child_alone-0  water-0  food-0  shelter-0  clothing-0  money-0   \n",
       "26383  child_alone-0  water-0  food-0  shelter-0  clothing-0  money-0   \n",
       "26384  child_alone-0  water-0  food-0  shelter-0  clothing-0  money-0   \n",
       "26385  child_alone-0  water-0  food-0  shelter-0  clothing-0  money-0   \n",
       "\n",
       "                     15          16       17           18  \\\n",
       "0      missing_people-0  refugees-0  death-0  other_aid-0   \n",
       "1      missing_people-0  refugees-0  death-0  other_aid-1   \n",
       "2      missing_people-0  refugees-0  death-0  other_aid-0   \n",
       "3      missing_people-0  refugees-0  death-0  other_aid-1   \n",
       "4      missing_people-0  refugees-0  death-0  other_aid-0   \n",
       "...                 ...         ...      ...          ...   \n",
       "26381  missing_people-0  refugees-0  death-0  other_aid-0   \n",
       "26382  missing_people-0  refugees-0  death-0  other_aid-0   \n",
       "26383  missing_people-0  refugees-0  death-0  other_aid-0   \n",
       "26384  missing_people-0  refugees-0  death-0  other_aid-0   \n",
       "26385  missing_people-0  refugees-0  death-0  other_aid-0   \n",
       "\n",
       "                             19           20           21             22  \\\n",
       "0      infrastructure_related-0  transport-0  buildings-0  electricity-0   \n",
       "1      infrastructure_related-0  transport-0  buildings-0  electricity-0   \n",
       "2      infrastructure_related-0  transport-0  buildings-0  electricity-0   \n",
       "3      infrastructure_related-1  transport-0  buildings-1  electricity-0   \n",
       "4      infrastructure_related-0  transport-0  buildings-0  electricity-0   \n",
       "...                         ...          ...          ...            ...   \n",
       "26381  infrastructure_related-0  transport-0  buildings-0  electricity-0   \n",
       "26382  infrastructure_related-0  transport-0  buildings-0  electricity-0   \n",
       "26383  infrastructure_related-0  transport-0  buildings-0  electricity-0   \n",
       "26384  infrastructure_related-0  transport-0  buildings-0  electricity-0   \n",
       "26385  infrastructure_related-0  transport-0  buildings-0  electricity-0   \n",
       "\n",
       "            23           24       25             26                      27  \\\n",
       "0      tools-0  hospitals-0  shops-0  aid_centers-0  other_infrastructure-0   \n",
       "1      tools-0  hospitals-0  shops-0  aid_centers-0  other_infrastructure-0   \n",
       "2      tools-0  hospitals-0  shops-0  aid_centers-0  other_infrastructure-0   \n",
       "3      tools-0  hospitals-1  shops-0  aid_centers-0  other_infrastructure-0   \n",
       "4      tools-0  hospitals-0  shops-0  aid_centers-0  other_infrastructure-0   \n",
       "...        ...          ...      ...            ...                     ...   \n",
       "26381  tools-0  hospitals-0  shops-0  aid_centers-0  other_infrastructure-0   \n",
       "26382  tools-0  hospitals-0  shops-0  aid_centers-0  other_infrastructure-0   \n",
       "26383  tools-0  hospitals-0  shops-0  aid_centers-0  other_infrastructure-0   \n",
       "26384  tools-0  hospitals-0  shops-0  aid_centers-0  other_infrastructure-0   \n",
       "26385  tools-0  hospitals-0  shops-0  aid_centers-0  other_infrastructure-0   \n",
       "\n",
       "                      28        29       30      31            32      33  \\\n",
       "0      weather_related-0  floods-0  storm-0  fire-0  earthquake-0  cold-0   \n",
       "1      weather_related-1  floods-0  storm-1  fire-0  earthquake-0  cold-0   \n",
       "2      weather_related-0  floods-0  storm-0  fire-0  earthquake-0  cold-0   \n",
       "3      weather_related-0  floods-0  storm-0  fire-0  earthquake-0  cold-0   \n",
       "4      weather_related-0  floods-0  storm-0  fire-0  earthquake-0  cold-0   \n",
       "...                  ...       ...      ...     ...           ...     ...   \n",
       "26381  weather_related-0  floods-0  storm-0  fire-0  earthquake-0  cold-0   \n",
       "26382  weather_related-0  floods-0  storm-0  fire-0  earthquake-0  cold-0   \n",
       "26383  weather_related-0  floods-0  storm-0  fire-0  earthquake-0  cold-0   \n",
       "26384  weather_related-0  floods-0  storm-0  fire-0  earthquake-0  cold-0   \n",
       "26385  weather_related-0  floods-0  storm-0  fire-0  earthquake-0  cold-0   \n",
       "\n",
       "                    34               35  \n",
       "0      other_weather-0  direct_report-0  \n",
       "1      other_weather-0  direct_report-0  \n",
       "2      other_weather-0  direct_report-0  \n",
       "3      other_weather-0  direct_report-0  \n",
       "4      other_weather-0  direct_report-0  \n",
       "...                ...              ...  \n",
       "26381  other_weather-0  direct_report-0  \n",
       "26382  other_weather-0  direct_report-0  \n",
       "26383  other_weather-0  direct_report-0  \n",
       "26384  other_weather-0  direct_report-0  \n",
       "26385  other_weather-0  direct_report-0  \n",
       "\n",
       "[26386 rows x 36 columns]"
      ],
      "text/html": "<div>\n<style scoped>\n    .dataframe tbody tr th:only-of-type {\n        vertical-align: middle;\n    }\n\n    .dataframe tbody tr th {\n        vertical-align: top;\n    }\n\n    .dataframe thead th {\n        text-align: right;\n    }\n</style>\n<table border=\"1\" class=\"dataframe\">\n  <thead>\n    <tr style=\"text-align: right;\">\n      <th></th>\n      <th>0</th>\n      <th>1</th>\n      <th>2</th>\n      <th>3</th>\n      <th>4</th>\n      <th>5</th>\n      <th>6</th>\n      <th>7</th>\n      <th>8</th>\n      <th>9</th>\n      <th>10</th>\n      <th>11</th>\n      <th>12</th>\n      <th>13</th>\n      <th>14</th>\n      <th>15</th>\n      <th>16</th>\n      <th>17</th>\n      <th>18</th>\n      <th>19</th>\n      <th>20</th>\n      <th>21</th>\n      <th>22</th>\n      <th>23</th>\n      <th>24</th>\n      <th>25</th>\n      <th>26</th>\n      <th>27</th>\n      <th>28</th>\n      <th>29</th>\n      <th>30</th>\n      <th>31</th>\n      <th>32</th>\n      <th>33</th>\n      <th>34</th>\n      <th>35</th>\n    </tr>\n  </thead>\n  <tbody>\n    <tr>\n      <th>0</th>\n      <td>related-1</td>\n      <td>request-0</td>\n      <td>offer-0</td>\n      <td>aid_related-0</td>\n      <td>medical_help-0</td>\n      <td>medical_products-0</td>\n      <td>search_and_rescue-0</td>\n      <td>security-0</td>\n      <td>military-0</td>\n      <td>child_alone-0</td>\n      <td>water-0</td>\n      <td>food-0</td>\n      <td>shelter-0</td>\n      <td>clothing-0</td>\n      <td>money-0</td>\n      <td>missing_people-0</td>\n      <td>refugees-0</td>\n      <td>death-0</td>\n      <td>other_aid-0</td>\n      <td>infrastructure_related-0</td>\n      <td>transport-0</td>\n      <td>buildings-0</td>\n      <td>electricity-0</td>\n      <td>tools-0</td>\n      <td>hospitals-0</td>\n      <td>shops-0</td>\n      <td>aid_centers-0</td>\n      <td>other_infrastructure-0</td>\n      <td>weather_related-0</td>\n      <td>floods-0</td>\n      <td>storm-0</td>\n      <td>fire-0</td>\n      <td>earthquake-0</td>\n      <td>cold-0</td>\n      <td>other_weather-0</td>\n      <td>direct_report-0</td>\n    </tr>\n    <tr>\n      <th>1</th>\n      <td>related-1</td>\n      <td>request-0</td>\n      <td>offer-0</td>\n      <td>aid_related-1</td>\n      <td>medical_help-0</td>\n      <td>medical_products-0</td>\n      <td>search_and_rescue-0</td>\n      <td>security-0</td>\n      <td>military-0</td>\n      <td>child_alone-0</td>\n      <td>water-0</td>\n      <td>food-0</td>\n      <td>shelter-0</td>\n      <td>clothing-0</td>\n      <td>money-0</td>\n      <td>missing_people-0</td>\n      <td>refugees-0</td>\n      <td>death-0</td>\n      <td>other_aid-1</td>\n      <td>infrastructure_related-0</td>\n      <td>transport-0</td>\n      <td>buildings-0</td>\n      <td>electricity-0</td>\n      <td>tools-0</td>\n      <td>hospitals-0</td>\n      <td>shops-0</td>\n      <td>aid_centers-0</td>\n      <td>other_infrastructure-0</td>\n      <td>weather_related-1</td>\n      <td>floods-0</td>\n      <td>storm-1</td>\n      <td>fire-0</td>\n      <td>earthquake-0</td>\n      <td>cold-0</td>\n      <td>other_weather-0</td>\n      <td>direct_report-0</td>\n    </tr>\n    <tr>\n      <th>2</th>\n      <td>related-1</td>\n      <td>request-0</td>\n      <td>offer-0</td>\n      <td>aid_related-0</td>\n      <td>medical_help-0</td>\n      <td>medical_products-0</td>\n      <td>search_and_rescue-0</td>\n      <td>security-0</td>\n      <td>military-0</td>\n      <td>child_alone-0</td>\n      <td>water-0</td>\n      <td>food-0</td>\n      <td>shelter-0</td>\n      <td>clothing-0</td>\n      <td>money-0</td>\n      <td>missing_people-0</td>\n      <td>refugees-0</td>\n      <td>death-0</td>\n      <td>other_aid-0</td>\n      <td>infrastructure_related-0</td>\n      <td>transport-0</td>\n      <td>buildings-0</td>\n      <td>electricity-0</td>\n      <td>tools-0</td>\n      <td>hospitals-0</td>\n      <td>shops-0</td>\n      <td>aid_centers-0</td>\n      <td>other_infrastructure-0</td>\n      <td>weather_related-0</td>\n      <td>floods-0</td>\n      <td>storm-0</td>\n      <td>fire-0</td>\n      <td>earthquake-0</td>\n      <td>cold-0</td>\n      <td>other_weather-0</td>\n      <td>direct_report-0</td>\n    </tr>\n    <tr>\n      <th>3</th>\n      <td>related-1</td>\n      <td>request-1</td>\n      <td>offer-0</td>\n      <td>aid_related-1</td>\n      <td>medical_help-0</td>\n      <td>medical_products-1</td>\n      <td>search_and_rescue-0</td>\n      <td>security-0</td>\n      <td>military-0</td>\n      <td>child_alone-0</td>\n      <td>water-0</td>\n      <td>food-0</td>\n      <td>shelter-0</td>\n      <td>clothing-0</td>\n      <td>money-0</td>\n      <td>missing_people-0</td>\n      <td>refugees-0</td>\n      <td>death-0</td>\n      <td>other_aid-1</td>\n      <td>infrastructure_related-1</td>\n      <td>transport-0</td>\n      <td>buildings-1</td>\n      <td>electricity-0</td>\n      <td>tools-0</td>\n      <td>hospitals-1</td>\n      <td>shops-0</td>\n      <td>aid_centers-0</td>\n      <td>other_infrastructure-0</td>\n      <td>weather_related-0</td>\n      <td>floods-0</td>\n      <td>storm-0</td>\n      <td>fire-0</td>\n      <td>earthquake-0</td>\n      <td>cold-0</td>\n      <td>other_weather-0</td>\n      <td>direct_report-0</td>\n    </tr>\n    <tr>\n      <th>4</th>\n      <td>related-1</td>\n      <td>request-0</td>\n      <td>offer-0</td>\n      <td>aid_related-0</td>\n      <td>medical_help-0</td>\n      <td>medical_products-0</td>\n      <td>search_and_rescue-0</td>\n      <td>security-0</td>\n      <td>military-0</td>\n      <td>child_alone-0</td>\n      <td>water-0</td>\n      <td>food-0</td>\n      <td>shelter-0</td>\n      <td>clothing-0</td>\n      <td>money-0</td>\n      <td>missing_people-0</td>\n      <td>refugees-0</td>\n      <td>death-0</td>\n      <td>other_aid-0</td>\n      <td>infrastructure_related-0</td>\n      <td>transport-0</td>\n      <td>buildings-0</td>\n      <td>electricity-0</td>\n      <td>tools-0</td>\n      <td>hospitals-0</td>\n      <td>shops-0</td>\n      <td>aid_centers-0</td>\n      <td>other_infrastructure-0</td>\n      <td>weather_related-0</td>\n      <td>floods-0</td>\n      <td>storm-0</td>\n      <td>fire-0</td>\n      <td>earthquake-0</td>\n      <td>cold-0</td>\n      <td>other_weather-0</td>\n      <td>direct_report-0</td>\n    </tr>\n    <tr>\n      <th>...</th>\n      <td>...</td>\n      <td>...</td>\n      <td>...</td>\n      <td>...</td>\n      <td>...</td>\n      <td>...</td>\n      <td>...</td>\n      <td>...</td>\n      <td>...</td>\n      <td>...</td>\n      <td>...</td>\n      <td>...</td>\n      <td>...</td>\n      <td>...</td>\n      <td>...</td>\n      <td>...</td>\n      <td>...</td>\n      <td>...</td>\n      <td>...</td>\n      <td>...</td>\n      <td>...</td>\n      <td>...</td>\n      <td>...</td>\n      <td>...</td>\n      <td>...</td>\n      <td>...</td>\n      <td>...</td>\n      <td>...</td>\n      <td>...</td>\n      <td>...</td>\n      <td>...</td>\n      <td>...</td>\n      <td>...</td>\n      <td>...</td>\n      <td>...</td>\n      <td>...</td>\n    </tr>\n    <tr>\n      <th>26381</th>\n      <td>related-0</td>\n      <td>request-0</td>\n      <td>offer-0</td>\n      <td>aid_related-0</td>\n      <td>medical_help-0</td>\n      <td>medical_products-0</td>\n      <td>search_and_rescue-0</td>\n      <td>security-0</td>\n      <td>military-0</td>\n      <td>child_alone-0</td>\n      <td>water-0</td>\n      <td>food-0</td>\n      <td>shelter-0</td>\n      <td>clothing-0</td>\n      <td>money-0</td>\n      <td>missing_people-0</td>\n      <td>refugees-0</td>\n      <td>death-0</td>\n      <td>other_aid-0</td>\n      <td>infrastructure_related-0</td>\n      <td>transport-0</td>\n      <td>buildings-0</td>\n      <td>electricity-0</td>\n      <td>tools-0</td>\n      <td>hospitals-0</td>\n      <td>shops-0</td>\n      <td>aid_centers-0</td>\n      <td>other_infrastructure-0</td>\n      <td>weather_related-0</td>\n      <td>floods-0</td>\n      <td>storm-0</td>\n      <td>fire-0</td>\n      <td>earthquake-0</td>\n      <td>cold-0</td>\n      <td>other_weather-0</td>\n      <td>direct_report-0</td>\n    </tr>\n    <tr>\n      <th>26382</th>\n      <td>related-0</td>\n      <td>request-0</td>\n      <td>offer-0</td>\n      <td>aid_related-0</td>\n      <td>medical_help-0</td>\n      <td>medical_products-0</td>\n      <td>search_and_rescue-0</td>\n      <td>security-0</td>\n      <td>military-0</td>\n      <td>child_alone-0</td>\n      <td>water-0</td>\n      <td>food-0</td>\n      <td>shelter-0</td>\n      <td>clothing-0</td>\n      <td>money-0</td>\n      <td>missing_people-0</td>\n      <td>refugees-0</td>\n      <td>death-0</td>\n      <td>other_aid-0</td>\n      <td>infrastructure_related-0</td>\n      <td>transport-0</td>\n      <td>buildings-0</td>\n      <td>electricity-0</td>\n      <td>tools-0</td>\n      <td>hospitals-0</td>\n      <td>shops-0</td>\n      <td>aid_centers-0</td>\n      <td>other_infrastructure-0</td>\n      <td>weather_related-0</td>\n      <td>floods-0</td>\n      <td>storm-0</td>\n      <td>fire-0</td>\n      <td>earthquake-0</td>\n      <td>cold-0</td>\n      <td>other_weather-0</td>\n      <td>direct_report-0</td>\n    </tr>\n    <tr>\n      <th>26383</th>\n      <td>related-1</td>\n      <td>request-0</td>\n      <td>offer-0</td>\n      <td>aid_related-0</td>\n      <td>medical_help-0</td>\n      <td>medical_products-0</td>\n      <td>search_and_rescue-0</td>\n      <td>security-0</td>\n      <td>military-0</td>\n      <td>child_alone-0</td>\n      <td>water-0</td>\n      <td>food-0</td>\n      <td>shelter-0</td>\n      <td>clothing-0</td>\n      <td>money-0</td>\n      <td>missing_people-0</td>\n      <td>refugees-0</td>\n      <td>death-0</td>\n      <td>other_aid-0</td>\n      <td>infrastructure_related-0</td>\n      <td>transport-0</td>\n      <td>buildings-0</td>\n      <td>electricity-0</td>\n      <td>tools-0</td>\n      <td>hospitals-0</td>\n      <td>shops-0</td>\n      <td>aid_centers-0</td>\n      <td>other_infrastructure-0</td>\n      <td>weather_related-0</td>\n      <td>floods-0</td>\n      <td>storm-0</td>\n      <td>fire-0</td>\n      <td>earthquake-0</td>\n      <td>cold-0</td>\n      <td>other_weather-0</td>\n      <td>direct_report-0</td>\n    </tr>\n    <tr>\n      <th>26384</th>\n      <td>related-1</td>\n      <td>request-0</td>\n      <td>offer-0</td>\n      <td>aid_related-1</td>\n      <td>medical_help-0</td>\n      <td>medical_products-0</td>\n      <td>search_and_rescue-0</td>\n      <td>security-0</td>\n      <td>military-1</td>\n      <td>child_alone-0</td>\n      <td>water-0</td>\n      <td>food-0</td>\n      <td>shelter-0</td>\n      <td>clothing-0</td>\n      <td>money-0</td>\n      <td>missing_people-0</td>\n      <td>refugees-0</td>\n      <td>death-0</td>\n      <td>other_aid-0</td>\n      <td>infrastructure_related-0</td>\n      <td>transport-0</td>\n      <td>buildings-0</td>\n      <td>electricity-0</td>\n      <td>tools-0</td>\n      <td>hospitals-0</td>\n      <td>shops-0</td>\n      <td>aid_centers-0</td>\n      <td>other_infrastructure-0</td>\n      <td>weather_related-0</td>\n      <td>floods-0</td>\n      <td>storm-0</td>\n      <td>fire-0</td>\n      <td>earthquake-0</td>\n      <td>cold-0</td>\n      <td>other_weather-0</td>\n      <td>direct_report-0</td>\n    </tr>\n    <tr>\n      <th>26385</th>\n      <td>related-1</td>\n      <td>request-0</td>\n      <td>offer-0</td>\n      <td>aid_related-0</td>\n      <td>medical_help-0</td>\n      <td>medical_products-0</td>\n      <td>search_and_rescue-0</td>\n      <td>security-0</td>\n      <td>military-0</td>\n      <td>child_alone-0</td>\n      <td>water-0</td>\n      <td>food-0</td>\n      <td>shelter-0</td>\n      <td>clothing-0</td>\n      <td>money-0</td>\n      <td>missing_people-0</td>\n      <td>refugees-0</td>\n      <td>death-0</td>\n      <td>other_aid-0</td>\n      <td>infrastructure_related-0</td>\n      <td>transport-0</td>\n      <td>buildings-0</td>\n      <td>electricity-0</td>\n      <td>tools-0</td>\n      <td>hospitals-0</td>\n      <td>shops-0</td>\n      <td>aid_centers-0</td>\n      <td>other_infrastructure-0</td>\n      <td>weather_related-0</td>\n      <td>floods-0</td>\n      <td>storm-0</td>\n      <td>fire-0</td>\n      <td>earthquake-0</td>\n      <td>cold-0</td>\n      <td>other_weather-0</td>\n      <td>direct_report-0</td>\n    </tr>\n  </tbody>\n</table>\n<p>26386 rows × 36 columns</p>\n</div>"
     },
     "metadata": {},
     "execution_count": 20
    }
   ],
   "source": [
    "categories = pd.Series(df[\"categories\"])\n",
    "categories = categories.str.split(\";\", expand=True)\n",
    "categories"
   ]
  },
  {
   "cell_type": "code",
   "execution_count": 21,
   "metadata": {},
   "outputs": [
    {
     "output_type": "execute_result",
     "data": {
      "text/plain": [
       "          0          1        2              3               4   \\\n",
       "0  related-1  request-0  offer-0  aid_related-0  medical_help-0   \n",
       "\n",
       "                   5                    6           7           8   \\\n",
       "0  medical_products-0  search_and_rescue-0  security-0  military-0   \n",
       "\n",
       "              9        10      11         12          13       14  \\\n",
       "0  child_alone-0  water-0  food-0  shelter-0  clothing-0  money-0   \n",
       "\n",
       "                 15          16       17           18  \\\n",
       "0  missing_people-0  refugees-0  death-0  other_aid-0   \n",
       "\n",
       "                         19           20           21             22       23  \\\n",
       "0  infrastructure_related-0  transport-0  buildings-0  electricity-0  tools-0   \n",
       "\n",
       "            24       25             26                      27  \\\n",
       "0  hospitals-0  shops-0  aid_centers-0  other_infrastructure-0   \n",
       "\n",
       "                  28        29       30      31            32      33  \\\n",
       "0  weather_related-0  floods-0  storm-0  fire-0  earthquake-0  cold-0   \n",
       "\n",
       "                34               35  \n",
       "0  other_weather-0  direct_report-0  "
      ],
      "text/html": "<div>\n<style scoped>\n    .dataframe tbody tr th:only-of-type {\n        vertical-align: middle;\n    }\n\n    .dataframe tbody tr th {\n        vertical-align: top;\n    }\n\n    .dataframe thead th {\n        text-align: right;\n    }\n</style>\n<table border=\"1\" class=\"dataframe\">\n  <thead>\n    <tr style=\"text-align: right;\">\n      <th></th>\n      <th>0</th>\n      <th>1</th>\n      <th>2</th>\n      <th>3</th>\n      <th>4</th>\n      <th>5</th>\n      <th>6</th>\n      <th>7</th>\n      <th>8</th>\n      <th>9</th>\n      <th>10</th>\n      <th>11</th>\n      <th>12</th>\n      <th>13</th>\n      <th>14</th>\n      <th>15</th>\n      <th>16</th>\n      <th>17</th>\n      <th>18</th>\n      <th>19</th>\n      <th>20</th>\n      <th>21</th>\n      <th>22</th>\n      <th>23</th>\n      <th>24</th>\n      <th>25</th>\n      <th>26</th>\n      <th>27</th>\n      <th>28</th>\n      <th>29</th>\n      <th>30</th>\n      <th>31</th>\n      <th>32</th>\n      <th>33</th>\n      <th>34</th>\n      <th>35</th>\n    </tr>\n  </thead>\n  <tbody>\n    <tr>\n      <th>0</th>\n      <td>related-1</td>\n      <td>request-0</td>\n      <td>offer-0</td>\n      <td>aid_related-0</td>\n      <td>medical_help-0</td>\n      <td>medical_products-0</td>\n      <td>search_and_rescue-0</td>\n      <td>security-0</td>\n      <td>military-0</td>\n      <td>child_alone-0</td>\n      <td>water-0</td>\n      <td>food-0</td>\n      <td>shelter-0</td>\n      <td>clothing-0</td>\n      <td>money-0</td>\n      <td>missing_people-0</td>\n      <td>refugees-0</td>\n      <td>death-0</td>\n      <td>other_aid-0</td>\n      <td>infrastructure_related-0</td>\n      <td>transport-0</td>\n      <td>buildings-0</td>\n      <td>electricity-0</td>\n      <td>tools-0</td>\n      <td>hospitals-0</td>\n      <td>shops-0</td>\n      <td>aid_centers-0</td>\n      <td>other_infrastructure-0</td>\n      <td>weather_related-0</td>\n      <td>floods-0</td>\n      <td>storm-0</td>\n      <td>fire-0</td>\n      <td>earthquake-0</td>\n      <td>cold-0</td>\n      <td>other_weather-0</td>\n      <td>direct_report-0</td>\n    </tr>\n  </tbody>\n</table>\n</div>"
     },
     "metadata": {},
     "execution_count": 21
    }
   ],
   "source": [
    "categories_series = pd.Series(df[\"categories\"][0])\n",
    "categories_series = categories_series.str.split(\";\", expand=True)\n",
    "categories_series"
   ]
  },
  {
   "cell_type": "code",
   "execution_count": 22,
   "metadata": {},
   "outputs": [
    {
     "output_type": "stream",
     "name": "stdout",
     "text": [
      "        0        1      2            3             4                 5   \\\n0  related  request  offer  aid_related  medical_help  medical_products   \n\n                  6         7         8            9      10    11       12  \\\n0  search_and_rescue  security  military  child_alone  water  food  shelter   \n\n         13     14              15        16     17         18  \\\n0  clothing  money  missing_people  refugees  death  other_aid   \n\n                       19         20         21           22     23  \\\n0  infrastructure_related  transport  buildings  electricity  tools   \n\n          24     25           26                    27               28  \\\n0  hospitals  shops  aid_centers  other_infrastructure  weather_related   \n\n       29     30    31          32    33             34             35  \n0  floods  storm  fire  earthquake  cold  other_weather  direct_report  \n"
     ]
    }
   ],
   "source": [
    "# select the first row of the categories dataframe\n",
    "# row = categories[\"categories\"][:1]\n",
    "\n",
    "# use this row to extract a list of new column names for categories.\n",
    "# one way is to apply a lambda function that takes everything \n",
    "# up to the second to last character of each string with slicing\n",
    "# category_colnames = categories_series.str.split(\";\", expand=True)\n",
    "category_colnames = categories_series.apply(lambda x : x.str[:-2], axis=0)\n",
    "print(category_colnames)"
   ]
  },
  {
   "cell_type": "code",
   "execution_count": 23,
   "metadata": {},
   "outputs": [
    {
     "output_type": "execute_result",
     "data": {
      "text/plain": [
       "0    related    request    offer    aid_related    medical_help  \\\n",
       "0  related-1  request-0  offer-0  aid_related-0  medical_help-0   \n",
       "1  related-1  request-0  offer-0  aid_related-1  medical_help-0   \n",
       "2  related-1  request-0  offer-0  aid_related-0  medical_help-0   \n",
       "3  related-1  request-1  offer-0  aid_related-1  medical_help-0   \n",
       "4  related-1  request-0  offer-0  aid_related-0  medical_help-0   \n",
       "\n",
       "0    medical_products    search_and_rescue    security    military  \\\n",
       "0  medical_products-0  search_and_rescue-0  security-0  military-0   \n",
       "1  medical_products-0  search_and_rescue-0  security-0  military-0   \n",
       "2  medical_products-0  search_and_rescue-0  security-0  military-0   \n",
       "3  medical_products-1  search_and_rescue-0  security-0  military-0   \n",
       "4  medical_products-0  search_and_rescue-0  security-0  military-0   \n",
       "\n",
       "0    child_alone    water    food    shelter    clothing    money  \\\n",
       "0  child_alone-0  water-0  food-0  shelter-0  clothing-0  money-0   \n",
       "1  child_alone-0  water-0  food-0  shelter-0  clothing-0  money-0   \n",
       "2  child_alone-0  water-0  food-0  shelter-0  clothing-0  money-0   \n",
       "3  child_alone-0  water-0  food-0  shelter-0  clothing-0  money-0   \n",
       "4  child_alone-0  water-0  food-0  shelter-0  clothing-0  money-0   \n",
       "\n",
       "0    missing_people    refugees    death    other_aid  \\\n",
       "0  missing_people-0  refugees-0  death-0  other_aid-0   \n",
       "1  missing_people-0  refugees-0  death-0  other_aid-1   \n",
       "2  missing_people-0  refugees-0  death-0  other_aid-0   \n",
       "3  missing_people-0  refugees-0  death-0  other_aid-1   \n",
       "4  missing_people-0  refugees-0  death-0  other_aid-0   \n",
       "\n",
       "0    infrastructure_related    transport    buildings    electricity    tools  \\\n",
       "0  infrastructure_related-0  transport-0  buildings-0  electricity-0  tools-0   \n",
       "1  infrastructure_related-0  transport-0  buildings-0  electricity-0  tools-0   \n",
       "2  infrastructure_related-0  transport-0  buildings-0  electricity-0  tools-0   \n",
       "3  infrastructure_related-1  transport-0  buildings-1  electricity-0  tools-0   \n",
       "4  infrastructure_related-0  transport-0  buildings-0  electricity-0  tools-0   \n",
       "\n",
       "0    hospitals    shops    aid_centers    other_infrastructure  \\\n",
       "0  hospitals-0  shops-0  aid_centers-0  other_infrastructure-0   \n",
       "1  hospitals-0  shops-0  aid_centers-0  other_infrastructure-0   \n",
       "2  hospitals-0  shops-0  aid_centers-0  other_infrastructure-0   \n",
       "3  hospitals-1  shops-0  aid_centers-0  other_infrastructure-0   \n",
       "4  hospitals-0  shops-0  aid_centers-0  other_infrastructure-0   \n",
       "\n",
       "0    weather_related    floods    storm    fire    earthquake    cold  \\\n",
       "0  weather_related-0  floods-0  storm-0  fire-0  earthquake-0  cold-0   \n",
       "1  weather_related-1  floods-0  storm-1  fire-0  earthquake-0  cold-0   \n",
       "2  weather_related-0  floods-0  storm-0  fire-0  earthquake-0  cold-0   \n",
       "3  weather_related-0  floods-0  storm-0  fire-0  earthquake-0  cold-0   \n",
       "4  weather_related-0  floods-0  storm-0  fire-0  earthquake-0  cold-0   \n",
       "\n",
       "0    other_weather    direct_report  \n",
       "0  other_weather-0  direct_report-0  \n",
       "1  other_weather-0  direct_report-0  \n",
       "2  other_weather-0  direct_report-0  \n",
       "3  other_weather-0  direct_report-0  \n",
       "4  other_weather-0  direct_report-0  "
      ],
      "text/html": "<div>\n<style scoped>\n    .dataframe tbody tr th:only-of-type {\n        vertical-align: middle;\n    }\n\n    .dataframe tbody tr th {\n        vertical-align: top;\n    }\n\n    .dataframe thead th {\n        text-align: right;\n    }\n</style>\n<table border=\"1\" class=\"dataframe\">\n  <thead>\n    <tr style=\"text-align: right;\">\n      <th></th>\n      <th>related</th>\n      <th>request</th>\n      <th>offer</th>\n      <th>aid_related</th>\n      <th>medical_help</th>\n      <th>medical_products</th>\n      <th>search_and_rescue</th>\n      <th>security</th>\n      <th>military</th>\n      <th>child_alone</th>\n      <th>water</th>\n      <th>food</th>\n      <th>shelter</th>\n      <th>clothing</th>\n      <th>money</th>\n      <th>missing_people</th>\n      <th>refugees</th>\n      <th>death</th>\n      <th>other_aid</th>\n      <th>infrastructure_related</th>\n      <th>transport</th>\n      <th>buildings</th>\n      <th>electricity</th>\n      <th>tools</th>\n      <th>hospitals</th>\n      <th>shops</th>\n      <th>aid_centers</th>\n      <th>other_infrastructure</th>\n      <th>weather_related</th>\n      <th>floods</th>\n      <th>storm</th>\n      <th>fire</th>\n      <th>earthquake</th>\n      <th>cold</th>\n      <th>other_weather</th>\n      <th>direct_report</th>\n    </tr>\n  </thead>\n  <tbody>\n    <tr>\n      <th>0</th>\n      <td>related-1</td>\n      <td>request-0</td>\n      <td>offer-0</td>\n      <td>aid_related-0</td>\n      <td>medical_help-0</td>\n      <td>medical_products-0</td>\n      <td>search_and_rescue-0</td>\n      <td>security-0</td>\n      <td>military-0</td>\n      <td>child_alone-0</td>\n      <td>water-0</td>\n      <td>food-0</td>\n      <td>shelter-0</td>\n      <td>clothing-0</td>\n      <td>money-0</td>\n      <td>missing_people-0</td>\n      <td>refugees-0</td>\n      <td>death-0</td>\n      <td>other_aid-0</td>\n      <td>infrastructure_related-0</td>\n      <td>transport-0</td>\n      <td>buildings-0</td>\n      <td>electricity-0</td>\n      <td>tools-0</td>\n      <td>hospitals-0</td>\n      <td>shops-0</td>\n      <td>aid_centers-0</td>\n      <td>other_infrastructure-0</td>\n      <td>weather_related-0</td>\n      <td>floods-0</td>\n      <td>storm-0</td>\n      <td>fire-0</td>\n      <td>earthquake-0</td>\n      <td>cold-0</td>\n      <td>other_weather-0</td>\n      <td>direct_report-0</td>\n    </tr>\n    <tr>\n      <th>1</th>\n      <td>related-1</td>\n      <td>request-0</td>\n      <td>offer-0</td>\n      <td>aid_related-1</td>\n      <td>medical_help-0</td>\n      <td>medical_products-0</td>\n      <td>search_and_rescue-0</td>\n      <td>security-0</td>\n      <td>military-0</td>\n      <td>child_alone-0</td>\n      <td>water-0</td>\n      <td>food-0</td>\n      <td>shelter-0</td>\n      <td>clothing-0</td>\n      <td>money-0</td>\n      <td>missing_people-0</td>\n      <td>refugees-0</td>\n      <td>death-0</td>\n      <td>other_aid-1</td>\n      <td>infrastructure_related-0</td>\n      <td>transport-0</td>\n      <td>buildings-0</td>\n      <td>electricity-0</td>\n      <td>tools-0</td>\n      <td>hospitals-0</td>\n      <td>shops-0</td>\n      <td>aid_centers-0</td>\n      <td>other_infrastructure-0</td>\n      <td>weather_related-1</td>\n      <td>floods-0</td>\n      <td>storm-1</td>\n      <td>fire-0</td>\n      <td>earthquake-0</td>\n      <td>cold-0</td>\n      <td>other_weather-0</td>\n      <td>direct_report-0</td>\n    </tr>\n    <tr>\n      <th>2</th>\n      <td>related-1</td>\n      <td>request-0</td>\n      <td>offer-0</td>\n      <td>aid_related-0</td>\n      <td>medical_help-0</td>\n      <td>medical_products-0</td>\n      <td>search_and_rescue-0</td>\n      <td>security-0</td>\n      <td>military-0</td>\n      <td>child_alone-0</td>\n      <td>water-0</td>\n      <td>food-0</td>\n      <td>shelter-0</td>\n      <td>clothing-0</td>\n      <td>money-0</td>\n      <td>missing_people-0</td>\n      <td>refugees-0</td>\n      <td>death-0</td>\n      <td>other_aid-0</td>\n      <td>infrastructure_related-0</td>\n      <td>transport-0</td>\n      <td>buildings-0</td>\n      <td>electricity-0</td>\n      <td>tools-0</td>\n      <td>hospitals-0</td>\n      <td>shops-0</td>\n      <td>aid_centers-0</td>\n      <td>other_infrastructure-0</td>\n      <td>weather_related-0</td>\n      <td>floods-0</td>\n      <td>storm-0</td>\n      <td>fire-0</td>\n      <td>earthquake-0</td>\n      <td>cold-0</td>\n      <td>other_weather-0</td>\n      <td>direct_report-0</td>\n    </tr>\n    <tr>\n      <th>3</th>\n      <td>related-1</td>\n      <td>request-1</td>\n      <td>offer-0</td>\n      <td>aid_related-1</td>\n      <td>medical_help-0</td>\n      <td>medical_products-1</td>\n      <td>search_and_rescue-0</td>\n      <td>security-0</td>\n      <td>military-0</td>\n      <td>child_alone-0</td>\n      <td>water-0</td>\n      <td>food-0</td>\n      <td>shelter-0</td>\n      <td>clothing-0</td>\n      <td>money-0</td>\n      <td>missing_people-0</td>\n      <td>refugees-0</td>\n      <td>death-0</td>\n      <td>other_aid-1</td>\n      <td>infrastructure_related-1</td>\n      <td>transport-0</td>\n      <td>buildings-1</td>\n      <td>electricity-0</td>\n      <td>tools-0</td>\n      <td>hospitals-1</td>\n      <td>shops-0</td>\n      <td>aid_centers-0</td>\n      <td>other_infrastructure-0</td>\n      <td>weather_related-0</td>\n      <td>floods-0</td>\n      <td>storm-0</td>\n      <td>fire-0</td>\n      <td>earthquake-0</td>\n      <td>cold-0</td>\n      <td>other_weather-0</td>\n      <td>direct_report-0</td>\n    </tr>\n    <tr>\n      <th>4</th>\n      <td>related-1</td>\n      <td>request-0</td>\n      <td>offer-0</td>\n      <td>aid_related-0</td>\n      <td>medical_help-0</td>\n      <td>medical_products-0</td>\n      <td>search_and_rescue-0</td>\n      <td>security-0</td>\n      <td>military-0</td>\n      <td>child_alone-0</td>\n      <td>water-0</td>\n      <td>food-0</td>\n      <td>shelter-0</td>\n      <td>clothing-0</td>\n      <td>money-0</td>\n      <td>missing_people-0</td>\n      <td>refugees-0</td>\n      <td>death-0</td>\n      <td>other_aid-0</td>\n      <td>infrastructure_related-0</td>\n      <td>transport-0</td>\n      <td>buildings-0</td>\n      <td>electricity-0</td>\n      <td>tools-0</td>\n      <td>hospitals-0</td>\n      <td>shops-0</td>\n      <td>aid_centers-0</td>\n      <td>other_infrastructure-0</td>\n      <td>weather_related-0</td>\n      <td>floods-0</td>\n      <td>storm-0</td>\n      <td>fire-0</td>\n      <td>earthquake-0</td>\n      <td>cold-0</td>\n      <td>other_weather-0</td>\n      <td>direct_report-0</td>\n    </tr>\n  </tbody>\n</table>\n</div>"
     },
     "metadata": {},
     "execution_count": 23
    }
   ],
   "source": [
    "# rename the columns of `categories`\n",
    "categories.columns = category_colnames.iloc[0]\n",
    "categories.head()"
   ]
  },
  {
   "cell_type": "markdown",
   "metadata": {},
   "source": [
    "### 4. Convert category values to just numbers 0 or 1.\n",
    "- Iterate through the category columns in df to keep only the last character of each string (the 1 or 0). For example, `related-0` becomes `0`, `related-1` becomes `1`. Convert the string to a numeric value.\n",
    "- You can perform [normal string actions on Pandas Series](https://pandas.pydata.org/pandas-docs/stable/text.html#indexing-with-str), like indexing, by including `.str` after the Series. You may need to first convert the Series to be of type string, which you can do with `astype(str)`."
   ]
  },
  {
   "cell_type": "code",
   "execution_count": 25,
   "metadata": {},
   "outputs": [
    {
     "output_type": "error",
     "ename": "AttributeError",
     "evalue": "Can only use .str accessor with string values!",
     "traceback": [
      "\u001b[1;31m---------------------------------------------------------------------------\u001b[0m",
      "\u001b[1;31mAttributeError\u001b[0m                            Traceback (most recent call last)",
      "\u001b[1;32m~\\AppData\\Local\\Temp/ipykernel_18688/1736502545.py\u001b[0m in \u001b[0;36m<module>\u001b[1;34m\u001b[0m\n\u001b[0;32m      1\u001b[0m \u001b[1;32mfor\u001b[0m \u001b[0mcolumn\u001b[0m \u001b[1;32min\u001b[0m \u001b[0mcategories\u001b[0m\u001b[1;33m:\u001b[0m\u001b[1;33m\u001b[0m\u001b[1;33m\u001b[0m\u001b[0m\n\u001b[0;32m      2\u001b[0m     \u001b[1;31m# set each value to be the last character of the string\u001b[0m\u001b[1;33m\u001b[0m\u001b[1;33m\u001b[0m\u001b[1;33m\u001b[0m\u001b[0m\n\u001b[1;32m----> 3\u001b[1;33m     \u001b[0mcategories\u001b[0m\u001b[1;33m[\u001b[0m\u001b[0mcolumn\u001b[0m\u001b[1;33m]\u001b[0m \u001b[1;33m=\u001b[0m \u001b[0mcategories\u001b[0m\u001b[1;33m[\u001b[0m\u001b[0mcolumn\u001b[0m\u001b[1;33m]\u001b[0m\u001b[1;33m.\u001b[0m\u001b[0mstr\u001b[0m\u001b[1;33m[\u001b[0m\u001b[1;33m-\u001b[0m\u001b[1;36m1\u001b[0m\u001b[1;33m:\u001b[0m\u001b[1;33m]\u001b[0m\u001b[1;33m\u001b[0m\u001b[1;33m\u001b[0m\u001b[0m\n\u001b[0m\u001b[0;32m      4\u001b[0m \u001b[1;33m\u001b[0m\u001b[0m\n\u001b[0;32m      5\u001b[0m     \u001b[1;31m# convert column from string to numeric\u001b[0m\u001b[1;33m\u001b[0m\u001b[1;33m\u001b[0m\u001b[1;33m\u001b[0m\u001b[0m\n",
      "\u001b[1;32m~\\.virtualenvs\\nanodegree-project2-IgeBgnps\\lib\\site-packages\\pandas\\core\\generic.py\u001b[0m in \u001b[0;36m__getattr__\u001b[1;34m(self, name)\u001b[0m\n\u001b[0;32m   5459\u001b[0m             \u001b[1;32mor\u001b[0m \u001b[0mname\u001b[0m \u001b[1;32min\u001b[0m \u001b[0mself\u001b[0m\u001b[1;33m.\u001b[0m\u001b[0m_accessors\u001b[0m\u001b[1;33m\u001b[0m\u001b[1;33m\u001b[0m\u001b[0m\n\u001b[0;32m   5460\u001b[0m         ):\n\u001b[1;32m-> 5461\u001b[1;33m             \u001b[1;32mreturn\u001b[0m \u001b[0mobject\u001b[0m\u001b[1;33m.\u001b[0m\u001b[0m__getattribute__\u001b[0m\u001b[1;33m(\u001b[0m\u001b[0mself\u001b[0m\u001b[1;33m,\u001b[0m \u001b[0mname\u001b[0m\u001b[1;33m)\u001b[0m\u001b[1;33m\u001b[0m\u001b[1;33m\u001b[0m\u001b[0m\n\u001b[0m\u001b[0;32m   5462\u001b[0m         \u001b[1;32melse\u001b[0m\u001b[1;33m:\u001b[0m\u001b[1;33m\u001b[0m\u001b[1;33m\u001b[0m\u001b[0m\n\u001b[0;32m   5463\u001b[0m             \u001b[1;32mif\u001b[0m \u001b[0mself\u001b[0m\u001b[1;33m.\u001b[0m\u001b[0m_info_axis\u001b[0m\u001b[1;33m.\u001b[0m\u001b[0m_can_hold_identifiers_and_holds_name\u001b[0m\u001b[1;33m(\u001b[0m\u001b[0mname\u001b[0m\u001b[1;33m)\u001b[0m\u001b[1;33m:\u001b[0m\u001b[1;33m\u001b[0m\u001b[1;33m\u001b[0m\u001b[0m\n",
      "\u001b[1;32m~\\.virtualenvs\\nanodegree-project2-IgeBgnps\\lib\\site-packages\\pandas\\core\\accessor.py\u001b[0m in \u001b[0;36m__get__\u001b[1;34m(self, obj, cls)\u001b[0m\n\u001b[0;32m    178\u001b[0m             \u001b[1;31m# we're accessing the attribute of the class, i.e., Dataset.geo\u001b[0m\u001b[1;33m\u001b[0m\u001b[1;33m\u001b[0m\u001b[1;33m\u001b[0m\u001b[0m\n\u001b[0;32m    179\u001b[0m             \u001b[1;32mreturn\u001b[0m \u001b[0mself\u001b[0m\u001b[1;33m.\u001b[0m\u001b[0m_accessor\u001b[0m\u001b[1;33m\u001b[0m\u001b[1;33m\u001b[0m\u001b[0m\n\u001b[1;32m--> 180\u001b[1;33m         \u001b[0maccessor_obj\u001b[0m \u001b[1;33m=\u001b[0m \u001b[0mself\u001b[0m\u001b[1;33m.\u001b[0m\u001b[0m_accessor\u001b[0m\u001b[1;33m(\u001b[0m\u001b[0mobj\u001b[0m\u001b[1;33m)\u001b[0m\u001b[1;33m\u001b[0m\u001b[1;33m\u001b[0m\u001b[0m\n\u001b[0m\u001b[0;32m    181\u001b[0m         \u001b[1;31m# Replace the property with the accessor object. Inspired by:\u001b[0m\u001b[1;33m\u001b[0m\u001b[1;33m\u001b[0m\u001b[1;33m\u001b[0m\u001b[0m\n\u001b[0;32m    182\u001b[0m         \u001b[1;31m# https://www.pydanny.com/cached-property.html\u001b[0m\u001b[1;33m\u001b[0m\u001b[1;33m\u001b[0m\u001b[1;33m\u001b[0m\u001b[0m\n",
      "\u001b[1;32m~\\.virtualenvs\\nanodegree-project2-IgeBgnps\\lib\\site-packages\\pandas\\core\\strings\\accessor.py\u001b[0m in \u001b[0;36m__init__\u001b[1;34m(self, data)\u001b[0m\n\u001b[0;32m    152\u001b[0m         \u001b[1;32mfrom\u001b[0m \u001b[0mpandas\u001b[0m\u001b[1;33m.\u001b[0m\u001b[0mcore\u001b[0m\u001b[1;33m.\u001b[0m\u001b[0marrays\u001b[0m\u001b[1;33m.\u001b[0m\u001b[0mstring_\u001b[0m \u001b[1;32mimport\u001b[0m \u001b[0mStringDtype\u001b[0m\u001b[1;33m\u001b[0m\u001b[1;33m\u001b[0m\u001b[0m\n\u001b[0;32m    153\u001b[0m \u001b[1;33m\u001b[0m\u001b[0m\n\u001b[1;32m--> 154\u001b[1;33m         \u001b[0mself\u001b[0m\u001b[1;33m.\u001b[0m\u001b[0m_inferred_dtype\u001b[0m \u001b[1;33m=\u001b[0m \u001b[0mself\u001b[0m\u001b[1;33m.\u001b[0m\u001b[0m_validate\u001b[0m\u001b[1;33m(\u001b[0m\u001b[0mdata\u001b[0m\u001b[1;33m)\u001b[0m\u001b[1;33m\u001b[0m\u001b[1;33m\u001b[0m\u001b[0m\n\u001b[0m\u001b[0;32m    155\u001b[0m         \u001b[0mself\u001b[0m\u001b[1;33m.\u001b[0m\u001b[0m_is_categorical\u001b[0m \u001b[1;33m=\u001b[0m \u001b[0mis_categorical_dtype\u001b[0m\u001b[1;33m(\u001b[0m\u001b[0mdata\u001b[0m\u001b[1;33m.\u001b[0m\u001b[0mdtype\u001b[0m\u001b[1;33m)\u001b[0m\u001b[1;33m\u001b[0m\u001b[1;33m\u001b[0m\u001b[0m\n\u001b[0;32m    156\u001b[0m         \u001b[0mself\u001b[0m\u001b[1;33m.\u001b[0m\u001b[0m_is_string\u001b[0m \u001b[1;33m=\u001b[0m \u001b[0misinstance\u001b[0m\u001b[1;33m(\u001b[0m\u001b[0mdata\u001b[0m\u001b[1;33m.\u001b[0m\u001b[0mdtype\u001b[0m\u001b[1;33m,\u001b[0m \u001b[0mStringDtype\u001b[0m\u001b[1;33m)\u001b[0m\u001b[1;33m\u001b[0m\u001b[1;33m\u001b[0m\u001b[0m\n",
      "\u001b[1;32m~\\.virtualenvs\\nanodegree-project2-IgeBgnps\\lib\\site-packages\\pandas\\core\\strings\\accessor.py\u001b[0m in \u001b[0;36m_validate\u001b[1;34m(data)\u001b[0m\n\u001b[0;32m    215\u001b[0m \u001b[1;33m\u001b[0m\u001b[0m\n\u001b[0;32m    216\u001b[0m         \u001b[1;32mif\u001b[0m \u001b[0minferred_dtype\u001b[0m \u001b[1;32mnot\u001b[0m \u001b[1;32min\u001b[0m \u001b[0mallowed_types\u001b[0m\u001b[1;33m:\u001b[0m\u001b[1;33m\u001b[0m\u001b[1;33m\u001b[0m\u001b[0m\n\u001b[1;32m--> 217\u001b[1;33m             \u001b[1;32mraise\u001b[0m \u001b[0mAttributeError\u001b[0m\u001b[1;33m(\u001b[0m\u001b[1;34m\"Can only use .str accessor with string values!\"\u001b[0m\u001b[1;33m)\u001b[0m\u001b[1;33m\u001b[0m\u001b[1;33m\u001b[0m\u001b[0m\n\u001b[0m\u001b[0;32m    218\u001b[0m         \u001b[1;32mreturn\u001b[0m \u001b[0minferred_dtype\u001b[0m\u001b[1;33m\u001b[0m\u001b[1;33m\u001b[0m\u001b[0m\n\u001b[0;32m    219\u001b[0m \u001b[1;33m\u001b[0m\u001b[0m\n",
      "\u001b[1;31mAttributeError\u001b[0m: Can only use .str accessor with string values!"
     ]
    }
   ],
   "source": [
    "for column in categories:\n",
    "    # set each value to be the last character of the string\n",
    "    categories[column] = categories[column].str[-1:]\n",
    "    \n",
    "    # convert column from string to numeric\n",
    "    categories[column] = categories[column].astype(int)\n",
    "categories.head()"
   ]
  },
  {
   "cell_type": "code",
   "execution_count": 28,
   "metadata": {},
   "outputs": [
    {
     "output_type": "execute_result",
     "data": {
      "text/plain": [
       "0           related       request         offer   aid_related  medical_help  \\\n",
       "count  26386.000000  26386.000000  26386.000000  26386.000000   26386.00000   \n",
       "mean       0.775032      0.171038      0.004586      0.415144       0.07955   \n",
       "std        0.435692      0.376549      0.067564      0.492756       0.27060   \n",
       "min        0.000000      0.000000      0.000000      0.000000       0.00000   \n",
       "25%        1.000000      0.000000      0.000000      0.000000       0.00000   \n",
       "50%        1.000000      0.000000      0.000000      0.000000       0.00000   \n",
       "75%        1.000000      0.000000      0.000000      1.000000       0.00000   \n",
       "max        2.000000      1.000000      1.000000      1.000000       1.00000   \n",
       "\n",
       "0      medical_products  search_and_rescue     security      military  \\\n",
       "count      26386.000000       26386.000000  26386.00000  26386.000000   \n",
       "mean           0.049989           0.027477      0.01785      0.032707   \n",
       "std            0.217926           0.163471      0.13241      0.177871   \n",
       "min            0.000000           0.000000      0.00000      0.000000   \n",
       "25%            0.000000           0.000000      0.00000      0.000000   \n",
       "50%            0.000000           0.000000      0.00000      0.000000   \n",
       "75%            0.000000           0.000000      0.00000      0.000000   \n",
       "max            1.000000           1.000000      1.00000      1.000000   \n",
       "\n",
       "0      child_alone         water          food       shelter      clothing  \\\n",
       "count      26386.0  26386.000000  26386.000000  26386.000000  26386.000000   \n",
       "mean           0.0      0.063822      0.112029      0.088759      0.015539   \n",
       "std            0.0      0.244440      0.315408      0.284401      0.123684   \n",
       "min            0.0      0.000000      0.000000      0.000000      0.000000   \n",
       "25%            0.0      0.000000      0.000000      0.000000      0.000000   \n",
       "50%            0.0      0.000000      0.000000      0.000000      0.000000   \n",
       "75%            0.0      0.000000      0.000000      0.000000      0.000000   \n",
       "max            0.0      1.000000      1.000000      1.000000      1.000000   \n",
       "\n",
       "0             money  missing_people      refugees         death     other_aid  \\\n",
       "count  26386.000000    26386.000000  26386.000000  26386.000000  26386.000000   \n",
       "mean       0.022967        0.011408      0.033351      0.045630      0.131282   \n",
       "std        0.149800        0.106197      0.179555      0.208686      0.337715   \n",
       "min        0.000000        0.000000      0.000000      0.000000      0.000000   \n",
       "25%        0.000000        0.000000      0.000000      0.000000      0.000000   \n",
       "50%        0.000000        0.000000      0.000000      0.000000      0.000000   \n",
       "75%        0.000000        0.000000      0.000000      0.000000      0.000000   \n",
       "max        1.000000        1.000000      1.000000      1.000000      1.000000   \n",
       "\n",
       "0      infrastructure_related     transport     buildings   electricity  \\\n",
       "count            26386.000000  26386.000000  26386.000000  26386.000000   \n",
       "mean                 0.064769      0.045933      0.050974      0.020390   \n",
       "std                  0.246123      0.209345      0.219949      0.141332   \n",
       "min                  0.000000      0.000000      0.000000      0.000000   \n",
       "25%                  0.000000      0.000000      0.000000      0.000000   \n",
       "50%                  0.000000      0.000000      0.000000      0.000000   \n",
       "75%                  0.000000      0.000000      0.000000      0.000000   \n",
       "max                  1.000000      1.000000      1.000000      1.000000   \n",
       "\n",
       "0             tools     hospitals         shops   aid_centers  \\\n",
       "count  26386.000000  26386.000000  26386.000000  26386.000000   \n",
       "mean       0.006026      0.010725      0.004548      0.011711   \n",
       "std        0.077394      0.103009      0.067286      0.107583   \n",
       "min        0.000000      0.000000      0.000000      0.000000   \n",
       "25%        0.000000      0.000000      0.000000      0.000000   \n",
       "50%        0.000000      0.000000      0.000000      0.000000   \n",
       "75%        0.000000      0.000000      0.000000      0.000000   \n",
       "max        1.000000      1.000000      1.000000      1.000000   \n",
       "\n",
       "0      other_infrastructure  weather_related        floods         storm  \\\n",
       "count          26386.000000     26386.000000  26386.000000  26386.000000   \n",
       "mean               0.043773         0.278292      0.082506      0.093383   \n",
       "std                0.204594         0.448166      0.275139      0.290974   \n",
       "min                0.000000         0.000000      0.000000      0.000000   \n",
       "25%                0.000000         0.000000      0.000000      0.000000   \n",
       "50%                0.000000         0.000000      0.000000      0.000000   \n",
       "75%                0.000000         1.000000      0.000000      0.000000   \n",
       "max                1.000000         1.000000      1.000000      1.000000   \n",
       "\n",
       "0              fire    earthquake          cold  other_weather  direct_report  \n",
       "count  26386.000000  26386.000000  26386.000000   26386.000000   26386.000000  \n",
       "mean       0.010687      0.093269      0.020200       0.052263       0.193777  \n",
       "std        0.102828      0.290815      0.140687       0.222560       0.395264  \n",
       "min        0.000000      0.000000      0.000000       0.000000       0.000000  \n",
       "25%        0.000000      0.000000      0.000000       0.000000       0.000000  \n",
       "50%        0.000000      0.000000      0.000000       0.000000       0.000000  \n",
       "75%        0.000000      0.000000      0.000000       0.000000       0.000000  \n",
       "max        1.000000      1.000000      1.000000       1.000000       1.000000  "
      ],
      "text/html": "<div>\n<style scoped>\n    .dataframe tbody tr th:only-of-type {\n        vertical-align: middle;\n    }\n\n    .dataframe tbody tr th {\n        vertical-align: top;\n    }\n\n    .dataframe thead th {\n        text-align: right;\n    }\n</style>\n<table border=\"1\" class=\"dataframe\">\n  <thead>\n    <tr style=\"text-align: right;\">\n      <th></th>\n      <th>related</th>\n      <th>request</th>\n      <th>offer</th>\n      <th>aid_related</th>\n      <th>medical_help</th>\n      <th>medical_products</th>\n      <th>search_and_rescue</th>\n      <th>security</th>\n      <th>military</th>\n      <th>child_alone</th>\n      <th>water</th>\n      <th>food</th>\n      <th>shelter</th>\n      <th>clothing</th>\n      <th>money</th>\n      <th>missing_people</th>\n      <th>refugees</th>\n      <th>death</th>\n      <th>other_aid</th>\n      <th>infrastructure_related</th>\n      <th>transport</th>\n      <th>buildings</th>\n      <th>electricity</th>\n      <th>tools</th>\n      <th>hospitals</th>\n      <th>shops</th>\n      <th>aid_centers</th>\n      <th>other_infrastructure</th>\n      <th>weather_related</th>\n      <th>floods</th>\n      <th>storm</th>\n      <th>fire</th>\n      <th>earthquake</th>\n      <th>cold</th>\n      <th>other_weather</th>\n      <th>direct_report</th>\n    </tr>\n  </thead>\n  <tbody>\n    <tr>\n      <th>count</th>\n      <td>26386.000000</td>\n      <td>26386.000000</td>\n      <td>26386.000000</td>\n      <td>26386.000000</td>\n      <td>26386.00000</td>\n      <td>26386.000000</td>\n      <td>26386.000000</td>\n      <td>26386.00000</td>\n      <td>26386.000000</td>\n      <td>26386.0</td>\n      <td>26386.000000</td>\n      <td>26386.000000</td>\n      <td>26386.000000</td>\n      <td>26386.000000</td>\n      <td>26386.000000</td>\n      <td>26386.000000</td>\n      <td>26386.000000</td>\n      <td>26386.000000</td>\n      <td>26386.000000</td>\n      <td>26386.000000</td>\n      <td>26386.000000</td>\n      <td>26386.000000</td>\n      <td>26386.000000</td>\n      <td>26386.000000</td>\n      <td>26386.000000</td>\n      <td>26386.000000</td>\n      <td>26386.000000</td>\n      <td>26386.000000</td>\n      <td>26386.000000</td>\n      <td>26386.000000</td>\n      <td>26386.000000</td>\n      <td>26386.000000</td>\n      <td>26386.000000</td>\n      <td>26386.000000</td>\n      <td>26386.000000</td>\n      <td>26386.000000</td>\n    </tr>\n    <tr>\n      <th>mean</th>\n      <td>0.775032</td>\n      <td>0.171038</td>\n      <td>0.004586</td>\n      <td>0.415144</td>\n      <td>0.07955</td>\n      <td>0.049989</td>\n      <td>0.027477</td>\n      <td>0.01785</td>\n      <td>0.032707</td>\n      <td>0.0</td>\n      <td>0.063822</td>\n      <td>0.112029</td>\n      <td>0.088759</td>\n      <td>0.015539</td>\n      <td>0.022967</td>\n      <td>0.011408</td>\n      <td>0.033351</td>\n      <td>0.045630</td>\n      <td>0.131282</td>\n      <td>0.064769</td>\n      <td>0.045933</td>\n      <td>0.050974</td>\n      <td>0.020390</td>\n      <td>0.006026</td>\n      <td>0.010725</td>\n      <td>0.004548</td>\n      <td>0.011711</td>\n      <td>0.043773</td>\n      <td>0.278292</td>\n      <td>0.082506</td>\n      <td>0.093383</td>\n      <td>0.010687</td>\n      <td>0.093269</td>\n      <td>0.020200</td>\n      <td>0.052263</td>\n      <td>0.193777</td>\n    </tr>\n    <tr>\n      <th>std</th>\n      <td>0.435692</td>\n      <td>0.376549</td>\n      <td>0.067564</td>\n      <td>0.492756</td>\n      <td>0.27060</td>\n      <td>0.217926</td>\n      <td>0.163471</td>\n      <td>0.13241</td>\n      <td>0.177871</td>\n      <td>0.0</td>\n      <td>0.244440</td>\n      <td>0.315408</td>\n      <td>0.284401</td>\n      <td>0.123684</td>\n      <td>0.149800</td>\n      <td>0.106197</td>\n      <td>0.179555</td>\n      <td>0.208686</td>\n      <td>0.337715</td>\n      <td>0.246123</td>\n      <td>0.209345</td>\n      <td>0.219949</td>\n      <td>0.141332</td>\n      <td>0.077394</td>\n      <td>0.103009</td>\n      <td>0.067286</td>\n      <td>0.107583</td>\n      <td>0.204594</td>\n      <td>0.448166</td>\n      <td>0.275139</td>\n      <td>0.290974</td>\n      <td>0.102828</td>\n      <td>0.290815</td>\n      <td>0.140687</td>\n      <td>0.222560</td>\n      <td>0.395264</td>\n    </tr>\n    <tr>\n      <th>min</th>\n      <td>0.000000</td>\n      <td>0.000000</td>\n      <td>0.000000</td>\n      <td>0.000000</td>\n      <td>0.00000</td>\n      <td>0.000000</td>\n      <td>0.000000</td>\n      <td>0.00000</td>\n      <td>0.000000</td>\n      <td>0.0</td>\n      <td>0.000000</td>\n      <td>0.000000</td>\n      <td>0.000000</td>\n      <td>0.000000</td>\n      <td>0.000000</td>\n      <td>0.000000</td>\n      <td>0.000000</td>\n      <td>0.000000</td>\n      <td>0.000000</td>\n      <td>0.000000</td>\n      <td>0.000000</td>\n      <td>0.000000</td>\n      <td>0.000000</td>\n      <td>0.000000</td>\n      <td>0.000000</td>\n      <td>0.000000</td>\n      <td>0.000000</td>\n      <td>0.000000</td>\n      <td>0.000000</td>\n      <td>0.000000</td>\n      <td>0.000000</td>\n      <td>0.000000</td>\n      <td>0.000000</td>\n      <td>0.000000</td>\n      <td>0.000000</td>\n      <td>0.000000</td>\n    </tr>\n    <tr>\n      <th>25%</th>\n      <td>1.000000</td>\n      <td>0.000000</td>\n      <td>0.000000</td>\n      <td>0.000000</td>\n      <td>0.00000</td>\n      <td>0.000000</td>\n      <td>0.000000</td>\n      <td>0.00000</td>\n      <td>0.000000</td>\n      <td>0.0</td>\n      <td>0.000000</td>\n      <td>0.000000</td>\n      <td>0.000000</td>\n      <td>0.000000</td>\n      <td>0.000000</td>\n      <td>0.000000</td>\n      <td>0.000000</td>\n      <td>0.000000</td>\n      <td>0.000000</td>\n      <td>0.000000</td>\n      <td>0.000000</td>\n      <td>0.000000</td>\n      <td>0.000000</td>\n      <td>0.000000</td>\n      <td>0.000000</td>\n      <td>0.000000</td>\n      <td>0.000000</td>\n      <td>0.000000</td>\n      <td>0.000000</td>\n      <td>0.000000</td>\n      <td>0.000000</td>\n      <td>0.000000</td>\n      <td>0.000000</td>\n      <td>0.000000</td>\n      <td>0.000000</td>\n      <td>0.000000</td>\n    </tr>\n    <tr>\n      <th>50%</th>\n      <td>1.000000</td>\n      <td>0.000000</td>\n      <td>0.000000</td>\n      <td>0.000000</td>\n      <td>0.00000</td>\n      <td>0.000000</td>\n      <td>0.000000</td>\n      <td>0.00000</td>\n      <td>0.000000</td>\n      <td>0.0</td>\n      <td>0.000000</td>\n      <td>0.000000</td>\n      <td>0.000000</td>\n      <td>0.000000</td>\n      <td>0.000000</td>\n      <td>0.000000</td>\n      <td>0.000000</td>\n      <td>0.000000</td>\n      <td>0.000000</td>\n      <td>0.000000</td>\n      <td>0.000000</td>\n      <td>0.000000</td>\n      <td>0.000000</td>\n      <td>0.000000</td>\n      <td>0.000000</td>\n      <td>0.000000</td>\n      <td>0.000000</td>\n      <td>0.000000</td>\n      <td>0.000000</td>\n      <td>0.000000</td>\n      <td>0.000000</td>\n      <td>0.000000</td>\n      <td>0.000000</td>\n      <td>0.000000</td>\n      <td>0.000000</td>\n      <td>0.000000</td>\n    </tr>\n    <tr>\n      <th>75%</th>\n      <td>1.000000</td>\n      <td>0.000000</td>\n      <td>0.000000</td>\n      <td>1.000000</td>\n      <td>0.00000</td>\n      <td>0.000000</td>\n      <td>0.000000</td>\n      <td>0.00000</td>\n      <td>0.000000</td>\n      <td>0.0</td>\n      <td>0.000000</td>\n      <td>0.000000</td>\n      <td>0.000000</td>\n      <td>0.000000</td>\n      <td>0.000000</td>\n      <td>0.000000</td>\n      <td>0.000000</td>\n      <td>0.000000</td>\n      <td>0.000000</td>\n      <td>0.000000</td>\n      <td>0.000000</td>\n      <td>0.000000</td>\n      <td>0.000000</td>\n      <td>0.000000</td>\n      <td>0.000000</td>\n      <td>0.000000</td>\n      <td>0.000000</td>\n      <td>0.000000</td>\n      <td>1.000000</td>\n      <td>0.000000</td>\n      <td>0.000000</td>\n      <td>0.000000</td>\n      <td>0.000000</td>\n      <td>0.000000</td>\n      <td>0.000000</td>\n      <td>0.000000</td>\n    </tr>\n    <tr>\n      <th>max</th>\n      <td>2.000000</td>\n      <td>1.000000</td>\n      <td>1.000000</td>\n      <td>1.000000</td>\n      <td>1.00000</td>\n      <td>1.000000</td>\n      <td>1.000000</td>\n      <td>1.00000</td>\n      <td>1.000000</td>\n      <td>0.0</td>\n      <td>1.000000</td>\n      <td>1.000000</td>\n      <td>1.000000</td>\n      <td>1.000000</td>\n      <td>1.000000</td>\n      <td>1.000000</td>\n      <td>1.000000</td>\n      <td>1.000000</td>\n      <td>1.000000</td>\n      <td>1.000000</td>\n      <td>1.000000</td>\n      <td>1.000000</td>\n      <td>1.000000</td>\n      <td>1.000000</td>\n      <td>1.000000</td>\n      <td>1.000000</td>\n      <td>1.000000</td>\n      <td>1.000000</td>\n      <td>1.000000</td>\n      <td>1.000000</td>\n      <td>1.000000</td>\n      <td>1.000000</td>\n      <td>1.000000</td>\n      <td>1.000000</td>\n      <td>1.000000</td>\n      <td>1.000000</td>\n    </tr>\n  </tbody>\n</table>\n</div>"
     },
     "metadata": {},
     "execution_count": 28
    }
   ],
   "source": [
    "pd.set_option('display.max_columns', 40)\n",
    "categories.describe()"
   ]
  },
  {
   "cell_type": "code",
   "execution_count": 29,
   "metadata": {},
   "outputs": [
    {
     "output_type": "execute_result",
     "data": {
      "text/plain": [
       "(26386, 35)"
      ]
     },
     "metadata": {},
     "execution_count": 29
    }
   ],
   "source": [
    "for category in categories:\n",
    "    mean_calc = categories[category].mean()\n",
    "    if mean_calc == 0 or mean_calc == 1:\n",
    "        categories.drop([category], axis=1, inplace=True)\n",
    "\n",
    "categories.shape"
   ]
  },
  {
   "cell_type": "code",
   "execution_count": 31,
   "metadata": {},
   "outputs": [
    {
     "output_type": "execute_result",
     "data": {
      "text/plain": [
       "(26182, 35)"
      ]
     },
     "metadata": {},
     "execution_count": 31
    }
   ],
   "source": [
    "for category in categories:\n",
    "    max_calc = categories[category].max()\n",
    "    if max_calc > 1:\n",
    "        indexNames = categories[categories[category] > 1].index\n",
    "        categories.drop(indexNames, inplace=True)\n",
    "categories.shape"
   ]
  },
  {
   "cell_type": "markdown",
   "metadata": {},
   "source": [
    "### 5. Replace `categories` column in `df` with new category columns.\n",
    "- Drop the categories column from the df dataframe since it is no longer needed.\n",
    "- Concatenate df and categories data frames."
   ]
  },
  {
   "cell_type": "code",
   "execution_count": 172,
   "metadata": {},
   "outputs": [
    {
     "output_type": "execute_result",
     "data": {
      "text/plain": [
       "   id                                            message  \\\n",
       "0   2  Weather update - a cold front from Cuba that c...   \n",
       "1   7            Is the Hurricane over or is it not over   \n",
       "2   8                    Looking for someone but no name   \n",
       "3   9  UN reports Leogane 80-90 destroyed. Only Hospi...   \n",
       "4  12  says: west side of Haiti, rest of the country ...   \n",
       "\n",
       "                                            original   genre  \n",
       "0  Un front froid se retrouve sur Cuba ce matin. ...  direct  \n",
       "1                 Cyclone nan fini osinon li pa fini  direct  \n",
       "2  Patnm, di Maryani relem pou li banm nouvel li ...  direct  \n",
       "3  UN reports Leogane 80-90 destroyed. Only Hospi...  direct  \n",
       "4  facade ouest d Haiti et le reste du pays aujou...  direct  "
      ],
      "text/html": "<div>\n<style scoped>\n    .dataframe tbody tr th:only-of-type {\n        vertical-align: middle;\n    }\n\n    .dataframe tbody tr th {\n        vertical-align: top;\n    }\n\n    .dataframe thead th {\n        text-align: right;\n    }\n</style>\n<table border=\"1\" class=\"dataframe\">\n  <thead>\n    <tr style=\"text-align: right;\">\n      <th></th>\n      <th>id</th>\n      <th>message</th>\n      <th>original</th>\n      <th>genre</th>\n    </tr>\n  </thead>\n  <tbody>\n    <tr>\n      <th>0</th>\n      <td>2</td>\n      <td>Weather update - a cold front from Cuba that c...</td>\n      <td>Un front froid se retrouve sur Cuba ce matin. ...</td>\n      <td>direct</td>\n    </tr>\n    <tr>\n      <th>1</th>\n      <td>7</td>\n      <td>Is the Hurricane over or is it not over</td>\n      <td>Cyclone nan fini osinon li pa fini</td>\n      <td>direct</td>\n    </tr>\n    <tr>\n      <th>2</th>\n      <td>8</td>\n      <td>Looking for someone but no name</td>\n      <td>Patnm, di Maryani relem pou li banm nouvel li ...</td>\n      <td>direct</td>\n    </tr>\n    <tr>\n      <th>3</th>\n      <td>9</td>\n      <td>UN reports Leogane 80-90 destroyed. Only Hospi...</td>\n      <td>UN reports Leogane 80-90 destroyed. Only Hospi...</td>\n      <td>direct</td>\n    </tr>\n    <tr>\n      <th>4</th>\n      <td>12</td>\n      <td>says: west side of Haiti, rest of the country ...</td>\n      <td>facade ouest d Haiti et le reste du pays aujou...</td>\n      <td>direct</td>\n    </tr>\n  </tbody>\n</table>\n</div>"
     },
     "metadata": {},
     "execution_count": 172
    }
   ],
   "source": [
    "# drop the original categories column from `df`\n",
    "df.drop([\"categories\"], axis=1, inplace=True)\n",
    "df.head()"
   ]
  },
  {
   "cell_type": "code",
   "execution_count": 176,
   "metadata": {},
   "outputs": [
    {
     "output_type": "execute_result",
     "data": {
      "text/plain": [
       "   id                                            message  \\\n",
       "0   2  Weather update - a cold front from Cuba that c...   \n",
       "1   7            Is the Hurricane over or is it not over   \n",
       "2   8                    Looking for someone but no name   \n",
       "3   9  UN reports Leogane 80-90 destroyed. Only Hospi...   \n",
       "4  12  says: west side of Haiti, rest of the country ...   \n",
       "\n",
       "                                            original   genre  related  \\\n",
       "0  Un front froid se retrouve sur Cuba ce matin. ...  direct        1   \n",
       "1                 Cyclone nan fini osinon li pa fini  direct        1   \n",
       "2  Patnm, di Maryani relem pou li banm nouvel li ...  direct        1   \n",
       "3  UN reports Leogane 80-90 destroyed. Only Hospi...  direct        1   \n",
       "4  facade ouest d Haiti et le reste du pays aujou...  direct        1   \n",
       "\n",
       "   request  offer  aid_related  medical_help  medical_products  ...  \\\n",
       "0        0      0            0             0                 0  ...   \n",
       "1        0      0            1             0                 0  ...   \n",
       "2        0      0            0             0                 0  ...   \n",
       "3        1      0            1             0                 1  ...   \n",
       "4        0      0            0             0                 0  ...   \n",
       "\n",
       "   aid_centers  other_infrastructure  weather_related  floods  storm  fire  \\\n",
       "0            0                     0                0       0      0     0   \n",
       "1            0                     0                1       0      1     0   \n",
       "2            0                     0                0       0      0     0   \n",
       "3            0                     0                0       0      0     0   \n",
       "4            0                     0                0       0      0     0   \n",
       "\n",
       "   earthquake  cold  other_weather  direct_report  \n",
       "0           0     0              0              0  \n",
       "1           0     0              0              0  \n",
       "2           0     0              0              0  \n",
       "3           0     0              0              0  \n",
       "4           0     0              0              0  \n",
       "\n",
       "[5 rows x 40 columns]"
      ],
      "text/html": "<div>\n<style scoped>\n    .dataframe tbody tr th:only-of-type {\n        vertical-align: middle;\n    }\n\n    .dataframe tbody tr th {\n        vertical-align: top;\n    }\n\n    .dataframe thead th {\n        text-align: right;\n    }\n</style>\n<table border=\"1\" class=\"dataframe\">\n  <thead>\n    <tr style=\"text-align: right;\">\n      <th></th>\n      <th>id</th>\n      <th>message</th>\n      <th>original</th>\n      <th>genre</th>\n      <th>related</th>\n      <th>request</th>\n      <th>offer</th>\n      <th>aid_related</th>\n      <th>medical_help</th>\n      <th>medical_products</th>\n      <th>...</th>\n      <th>aid_centers</th>\n      <th>other_infrastructure</th>\n      <th>weather_related</th>\n      <th>floods</th>\n      <th>storm</th>\n      <th>fire</th>\n      <th>earthquake</th>\n      <th>cold</th>\n      <th>other_weather</th>\n      <th>direct_report</th>\n    </tr>\n  </thead>\n  <tbody>\n    <tr>\n      <th>0</th>\n      <td>2</td>\n      <td>Weather update - a cold front from Cuba that c...</td>\n      <td>Un front froid se retrouve sur Cuba ce matin. ...</td>\n      <td>direct</td>\n      <td>1</td>\n      <td>0</td>\n      <td>0</td>\n      <td>0</td>\n      <td>0</td>\n      <td>0</td>\n      <td>...</td>\n      <td>0</td>\n      <td>0</td>\n      <td>0</td>\n      <td>0</td>\n      <td>0</td>\n      <td>0</td>\n      <td>0</td>\n      <td>0</td>\n      <td>0</td>\n      <td>0</td>\n    </tr>\n    <tr>\n      <th>1</th>\n      <td>7</td>\n      <td>Is the Hurricane over or is it not over</td>\n      <td>Cyclone nan fini osinon li pa fini</td>\n      <td>direct</td>\n      <td>1</td>\n      <td>0</td>\n      <td>0</td>\n      <td>1</td>\n      <td>0</td>\n      <td>0</td>\n      <td>...</td>\n      <td>0</td>\n      <td>0</td>\n      <td>1</td>\n      <td>0</td>\n      <td>1</td>\n      <td>0</td>\n      <td>0</td>\n      <td>0</td>\n      <td>0</td>\n      <td>0</td>\n    </tr>\n    <tr>\n      <th>2</th>\n      <td>8</td>\n      <td>Looking for someone but no name</td>\n      <td>Patnm, di Maryani relem pou li banm nouvel li ...</td>\n      <td>direct</td>\n      <td>1</td>\n      <td>0</td>\n      <td>0</td>\n      <td>0</td>\n      <td>0</td>\n      <td>0</td>\n      <td>...</td>\n      <td>0</td>\n      <td>0</td>\n      <td>0</td>\n      <td>0</td>\n      <td>0</td>\n      <td>0</td>\n      <td>0</td>\n      <td>0</td>\n      <td>0</td>\n      <td>0</td>\n    </tr>\n    <tr>\n      <th>3</th>\n      <td>9</td>\n      <td>UN reports Leogane 80-90 destroyed. Only Hospi...</td>\n      <td>UN reports Leogane 80-90 destroyed. Only Hospi...</td>\n      <td>direct</td>\n      <td>1</td>\n      <td>1</td>\n      <td>0</td>\n      <td>1</td>\n      <td>0</td>\n      <td>1</td>\n      <td>...</td>\n      <td>0</td>\n      <td>0</td>\n      <td>0</td>\n      <td>0</td>\n      <td>0</td>\n      <td>0</td>\n      <td>0</td>\n      <td>0</td>\n      <td>0</td>\n      <td>0</td>\n    </tr>\n    <tr>\n      <th>4</th>\n      <td>12</td>\n      <td>says: west side of Haiti, rest of the country ...</td>\n      <td>facade ouest d Haiti et le reste du pays aujou...</td>\n      <td>direct</td>\n      <td>1</td>\n      <td>0</td>\n      <td>0</td>\n      <td>0</td>\n      <td>0</td>\n      <td>0</td>\n      <td>...</td>\n      <td>0</td>\n      <td>0</td>\n      <td>0</td>\n      <td>0</td>\n      <td>0</td>\n      <td>0</td>\n      <td>0</td>\n      <td>0</td>\n      <td>0</td>\n      <td>0</td>\n    </tr>\n  </tbody>\n</table>\n<p>5 rows × 40 columns</p>\n</div>"
     },
     "metadata": {},
     "execution_count": 176
    }
   ],
   "source": [
    "# concatenate the original dataframe with the new `categories` dataframe\n",
    "df = pd.concat([df, categories], axis=1)\n",
    "df.head()"
   ]
  },
  {
   "cell_type": "markdown",
   "metadata": {},
   "source": [
    "### 6. Remove duplicates.\n",
    "- Check how many duplicates are in this dataset.\n",
    "- Drop the duplicates.\n",
    "- Confirm duplicates were removed."
   ]
  },
  {
   "cell_type": "code",
   "execution_count": 180,
   "metadata": {},
   "outputs": [
    {
     "output_type": "execute_result",
     "data": {
      "text/plain": [
       "170"
      ]
     },
     "metadata": {},
     "execution_count": 180
    }
   ],
   "source": [
    "# check number of duplicates\n",
    "df.duplicated().sum()"
   ]
  },
  {
   "cell_type": "code",
   "execution_count": 181,
   "metadata": {},
   "outputs": [],
   "source": [
    "# drop duplicates\n",
    "df.drop_duplicates(inplace=True)"
   ]
  },
  {
   "cell_type": "code",
   "execution_count": 183,
   "metadata": {},
   "outputs": [
    {
     "output_type": "execute_result",
     "data": {
      "text/plain": [
       "26216"
      ]
     },
     "metadata": {},
     "execution_count": 183
    }
   ],
   "source": [
    "# check number of duplicates\n",
    "df.duplicated().sum()\n",
    "len(df)"
   ]
  },
  {
   "cell_type": "markdown",
   "metadata": {},
   "source": [
    "### 7. Save the clean dataset into an sqlite database.\n",
    "You can do this with pandas [`to_sql` method](https://pandas.pydata.org/pandas-docs/stable/generated/pandas.DataFrame.to_sql.html) combined with the SQLAlchemy library. Remember to import SQLAlchemy's `create_engine` in the first cell of this notebook to use it below."
   ]
  },
  {
   "cell_type": "code",
   "execution_count": 189,
   "metadata": {},
   "outputs": [],
   "source": [
    "engine = create_engine('sqlite:///DisasterData.db')\n",
    "df.to_sql('RawData', engine, index=False)"
   ]
  },
  {
   "cell_type": "markdown",
   "metadata": {},
   "source": [
    "### 8. Use this notebook to complete `etl_pipeline.py`\n",
    "Use the template file attached in the Resources folder to write a script that runs the steps above to create a database based on new datasets specified by the user. Alternatively, you can complete `etl_pipeline.py` in the classroom on the `Project Workspace IDE` coming later."
   ]
  },
  {
   "cell_type": "code",
   "execution_count": null,
   "metadata": {},
   "outputs": [],
   "source": []
  }
 ],
 "metadata": {
  "kernelspec": {
   "name": "python3",
   "display_name": "Python 3.8.7 64-bit ('nanodegree-project2-IgeBgnps': pipenv)"
  },
  "language_info": {
   "codemirror_mode": {
    "name": "ipython",
    "version": 3
   },
   "file_extension": ".py",
   "mimetype": "text/x-python",
   "name": "python",
   "nbconvert_exporter": "python",
   "pygments_lexer": "ipython3",
   "version": "3.8.7"
  },
  "interpreter": {
   "hash": "d637e3d2ca8e43b6f4bf832673b156b47dab09a4e3b1dfa8160fee22b3848fbf"
  }
 },
 "nbformat": 4,
 "nbformat_minor": 2
}